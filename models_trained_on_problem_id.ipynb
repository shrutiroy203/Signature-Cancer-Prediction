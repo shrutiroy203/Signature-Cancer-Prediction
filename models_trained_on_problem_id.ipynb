{
 "cells": [
  {
   "cell_type": "code",
   "execution_count": 11,
   "id": "suspended-great",
   "metadata": {},
   "outputs": [],
   "source": [
    "import pandas as pd\n",
    "import numpy as np\n",
    "import matplotlib.pyplot as plt\n",
    "\n",
    "from sklearn.linear_model import LogisticRegression, RidgeClassifier\n",
    "from sklearn.naive_bayes import BernoulliNB, GaussianNB\n",
    "from sklearn.tree import DecisionTreeClassifier, ExtraTreeClassifier\n",
    "from sklearn.ensemble import RandomForestClassifier, ExtraTreesClassifier, VotingClassifier\n",
    "from imblearn.pipeline import Pipeline, make_pipeline\n",
    "from sklearn.model_selection import train_test_split\n",
    "from sklearn.metrics import accuracy_score, log_loss\n",
    "from imblearn.over_sampling import SMOTE\n",
    "\n",
    "import warnings\n",
    "warnings.simplefilter(\"ignore\", UserWarning)\n",
    "warnings.simplefilter(\"ignore\", FutureWarning)"
   ]
  },
  {
   "cell_type": "markdown",
   "id": "renewable-spouse",
   "metadata": {},
   "source": [
    "## Load in data"
   ]
  },
  {
   "cell_type": "code",
   "execution_count": 2,
   "id": "matched-nerve",
   "metadata": {},
   "outputs": [
    {
     "data": {
      "text/html": [
       "<div>\n",
       "<style scoped>\n",
       "    .dataframe tbody tr th:only-of-type {\n",
       "        vertical-align: middle;\n",
       "    }\n",
       "\n",
       "    .dataframe tbody tr th {\n",
       "        vertical-align: top;\n",
       "    }\n",
       "\n",
       "    .dataframe thead th {\n",
       "        text-align: right;\n",
       "    }\n",
       "</style>\n",
       "<table border=\"1\" class=\"dataframe\">\n",
       "  <thead>\n",
       "    <tr style=\"text-align: right;\">\n",
       "      <th></th>\n",
       "      <th>problem_id</th>\n",
       "      <th>v0</th>\n",
       "      <th>v1</th>\n",
       "      <th>v2</th>\n",
       "      <th>v3</th>\n",
       "      <th>v4</th>\n",
       "      <th>v5</th>\n",
       "      <th>v6</th>\n",
       "      <th>v7</th>\n",
       "      <th>v8</th>\n",
       "      <th>...</th>\n",
       "      <th>v969</th>\n",
       "      <th>v970</th>\n",
       "      <th>v971</th>\n",
       "      <th>v972</th>\n",
       "      <th>v973</th>\n",
       "      <th>v974</th>\n",
       "      <th>v975</th>\n",
       "      <th>v976</th>\n",
       "      <th>v977</th>\n",
       "      <th>target</th>\n",
       "    </tr>\n",
       "  </thead>\n",
       "  <tbody>\n",
       "    <tr>\n",
       "      <th>0</th>\n",
       "      <td>0</td>\n",
       "      <td>0.35</td>\n",
       "      <td>0.36</td>\n",
       "      <td>0.77</td>\n",
       "      <td>0.42</td>\n",
       "      <td>0.48</td>\n",
       "      <td>0.12</td>\n",
       "      <td>0.43</td>\n",
       "      <td>0.49</td>\n",
       "      <td>0.19</td>\n",
       "      <td>...</td>\n",
       "      <td>0.77</td>\n",
       "      <td>0.57</td>\n",
       "      <td>0.56</td>\n",
       "      <td>0.40</td>\n",
       "      <td>0.75</td>\n",
       "      <td>0.08</td>\n",
       "      <td>0.14</td>\n",
       "      <td>0.43</td>\n",
       "      <td>0.88</td>\n",
       "      <td>0</td>\n",
       "    </tr>\n",
       "    <tr>\n",
       "      <th>1</th>\n",
       "      <td>0</td>\n",
       "      <td>0.12</td>\n",
       "      <td>0.17</td>\n",
       "      <td>0.38</td>\n",
       "      <td>0.43</td>\n",
       "      <td>0.57</td>\n",
       "      <td>0.09</td>\n",
       "      <td>0.11</td>\n",
       "      <td>0.58</td>\n",
       "      <td>0.35</td>\n",
       "      <td>...</td>\n",
       "      <td>0.07</td>\n",
       "      <td>0.59</td>\n",
       "      <td>0.06</td>\n",
       "      <td>0.17</td>\n",
       "      <td>0.09</td>\n",
       "      <td>0.04</td>\n",
       "      <td>0.04</td>\n",
       "      <td>0.45</td>\n",
       "      <td>0.14</td>\n",
       "      <td>1</td>\n",
       "    </tr>\n",
       "    <tr>\n",
       "      <th>2</th>\n",
       "      <td>0</td>\n",
       "      <td>0.67</td>\n",
       "      <td>0.16</td>\n",
       "      <td>0.85</td>\n",
       "      <td>0.41</td>\n",
       "      <td>0.57</td>\n",
       "      <td>0.27</td>\n",
       "      <td>0.83</td>\n",
       "      <td>0.73</td>\n",
       "      <td>0.26</td>\n",
       "      <td>...</td>\n",
       "      <td>0.24</td>\n",
       "      <td>0.42</td>\n",
       "      <td>0.57</td>\n",
       "      <td>0.58</td>\n",
       "      <td>0.37</td>\n",
       "      <td>0.01</td>\n",
       "      <td>0.10</td>\n",
       "      <td>0.38</td>\n",
       "      <td>0.06</td>\n",
       "      <td>1</td>\n",
       "    </tr>\n",
       "    <tr>\n",
       "      <th>3</th>\n",
       "      <td>0</td>\n",
       "      <td>0.70</td>\n",
       "      <td>0.20</td>\n",
       "      <td>0.62</td>\n",
       "      <td>0.41</td>\n",
       "      <td>0.41</td>\n",
       "      <td>0.10</td>\n",
       "      <td>0.80</td>\n",
       "      <td>0.52</td>\n",
       "      <td>0.82</td>\n",
       "      <td>...</td>\n",
       "      <td>0.04</td>\n",
       "      <td>0.52</td>\n",
       "      <td>0.25</td>\n",
       "      <td>0.07</td>\n",
       "      <td>0.23</td>\n",
       "      <td>0.04</td>\n",
       "      <td>0.76</td>\n",
       "      <td>0.41</td>\n",
       "      <td>0.59</td>\n",
       "      <td>1</td>\n",
       "    </tr>\n",
       "    <tr>\n",
       "      <th>4</th>\n",
       "      <td>0</td>\n",
       "      <td>0.72</td>\n",
       "      <td>0.75</td>\n",
       "      <td>0.74</td>\n",
       "      <td>0.42</td>\n",
       "      <td>0.41</td>\n",
       "      <td>0.76</td>\n",
       "      <td>0.34</td>\n",
       "      <td>0.72</td>\n",
       "      <td>0.06</td>\n",
       "      <td>...</td>\n",
       "      <td>0.81</td>\n",
       "      <td>0.41</td>\n",
       "      <td>0.16</td>\n",
       "      <td>0.03</td>\n",
       "      <td>0.21</td>\n",
       "      <td>0.10</td>\n",
       "      <td>0.12</td>\n",
       "      <td>0.53</td>\n",
       "      <td>0.30</td>\n",
       "      <td>1</td>\n",
       "    </tr>\n",
       "  </tbody>\n",
       "</table>\n",
       "<p>5 rows × 980 columns</p>\n",
       "</div>"
      ],
      "text/plain": [
       "   problem_id    v0    v1    v2    v3    v4    v5    v6    v7    v8  ...  \\\n",
       "0           0  0.35  0.36  0.77  0.42  0.48  0.12  0.43  0.49  0.19  ...   \n",
       "1           0  0.12  0.17  0.38  0.43  0.57  0.09  0.11  0.58  0.35  ...   \n",
       "2           0  0.67  0.16  0.85  0.41  0.57  0.27  0.83  0.73  0.26  ...   \n",
       "3           0  0.70  0.20  0.62  0.41  0.41  0.10  0.80  0.52  0.82  ...   \n",
       "4           0  0.72  0.75  0.74  0.42  0.41  0.76  0.34  0.72  0.06  ...   \n",
       "\n",
       "   v969  v970  v971  v972  v973  v974  v975  v976  v977  target  \n",
       "0  0.77  0.57  0.56  0.40  0.75  0.08  0.14  0.43  0.88       0  \n",
       "1  0.07  0.59  0.06  0.17  0.09  0.04  0.04  0.45  0.14       1  \n",
       "2  0.24  0.42  0.57  0.58  0.37  0.01  0.10  0.38  0.06       1  \n",
       "3  0.04  0.52  0.25  0.07  0.23  0.04  0.76  0.41  0.59       1  \n",
       "4  0.81  0.41  0.16  0.03  0.21  0.10  0.12  0.53  0.30       1  \n",
       "\n",
       "[5 rows x 980 columns]"
      ]
     },
     "execution_count": 2,
     "metadata": {},
     "output_type": "execute_result"
    }
   ],
   "source": [
    "train = pd.read_csv('train_ml2_2021.csv')\n",
    "train.head()"
   ]
  },
  {
   "cell_type": "code",
   "execution_count": 4,
   "id": "neural-induction",
   "metadata": {},
   "outputs": [],
   "source": [
    "problem_dfs = []\n",
    "for i in range(21):\n",
    "    problem_dfs.append(train[train['problem_id'] == i])"
   ]
  },
  {
   "cell_type": "code",
   "execution_count": 6,
   "id": "straight-arizona",
   "metadata": {},
   "outputs": [],
   "source": [
    "X_dfs = []\n",
    "y_dfs = []\n",
    "for df in problem_dfs:\n",
    "    X_dfs.append(df.iloc[:, :-1])\n",
    "    y_dfs.append(df.iloc[:, -1])"
   ]
  },
  {
   "cell_type": "code",
   "execution_count": 7,
   "id": "accomplished-paraguay",
   "metadata": {},
   "outputs": [],
   "source": [
    "X_train_dfs = []\n",
    "y_train_dfs = []\n",
    "X_val_dfs = []\n",
    "y_val_dfs = []\n",
    "for X_df, y_df in zip(X_dfs, y_dfs):\n",
    "    X_train, X_val, y_train, y_val = train_test_split(X_df, y_df.ravel(), stratify=y_df)\n",
    "    X_train_dfs.append(X_train)\n",
    "    y_train_dfs.append(y_train)\n",
    "    X_val_dfs.append(X_val)\n",
    "    y_val_dfs.append(y_val)"
   ]
  },
  {
   "cell_type": "code",
   "execution_count": 8,
   "id": "eastern-farmer",
   "metadata": {},
   "outputs": [
    {
     "data": {
      "text/html": [
       "<div>\n",
       "<style scoped>\n",
       "    .dataframe tbody tr th:only-of-type {\n",
       "        vertical-align: middle;\n",
       "    }\n",
       "\n",
       "    .dataframe tbody tr th {\n",
       "        vertical-align: top;\n",
       "    }\n",
       "\n",
       "    .dataframe thead th {\n",
       "        text-align: right;\n",
       "    }\n",
       "</style>\n",
       "<table border=\"1\" class=\"dataframe\">\n",
       "  <thead>\n",
       "    <tr style=\"text-align: right;\">\n",
       "      <th></th>\n",
       "      <th>obs_id</th>\n",
       "      <th>problem_id</th>\n",
       "      <th>v0</th>\n",
       "      <th>v1</th>\n",
       "      <th>v2</th>\n",
       "      <th>v3</th>\n",
       "      <th>v4</th>\n",
       "      <th>v5</th>\n",
       "      <th>v6</th>\n",
       "      <th>v7</th>\n",
       "      <th>...</th>\n",
       "      <th>v969</th>\n",
       "      <th>v970</th>\n",
       "      <th>v971</th>\n",
       "      <th>v972</th>\n",
       "      <th>v973</th>\n",
       "      <th>v974</th>\n",
       "      <th>v975</th>\n",
       "      <th>v976</th>\n",
       "      <th>v977</th>\n",
       "      <th>target</th>\n",
       "    </tr>\n",
       "  </thead>\n",
       "  <tbody>\n",
       "    <tr>\n",
       "      <th>0</th>\n",
       "      <td>0</td>\n",
       "      <td>2</td>\n",
       "      <td>0.60</td>\n",
       "      <td>0.05</td>\n",
       "      <td>0.50</td>\n",
       "      <td>0.79</td>\n",
       "      <td>0.06</td>\n",
       "      <td>0.72</td>\n",
       "      <td>0.51</td>\n",
       "      <td>0.34</td>\n",
       "      <td>...</td>\n",
       "      <td>0.50</td>\n",
       "      <td>0.34</td>\n",
       "      <td>0.72</td>\n",
       "      <td>0.12</td>\n",
       "      <td>0.66</td>\n",
       "      <td>0.75</td>\n",
       "      <td>0.52</td>\n",
       "      <td>0.74</td>\n",
       "      <td>0.35</td>\n",
       "      <td>0</td>\n",
       "    </tr>\n",
       "    <tr>\n",
       "      <th>1</th>\n",
       "      <td>1</td>\n",
       "      <td>2</td>\n",
       "      <td>0.55</td>\n",
       "      <td>0.08</td>\n",
       "      <td>0.62</td>\n",
       "      <td>0.52</td>\n",
       "      <td>0.05</td>\n",
       "      <td>0.46</td>\n",
       "      <td>0.20</td>\n",
       "      <td>0.11</td>\n",
       "      <td>...</td>\n",
       "      <td>0.68</td>\n",
       "      <td>0.68</td>\n",
       "      <td>0.78</td>\n",
       "      <td>0.17</td>\n",
       "      <td>0.45</td>\n",
       "      <td>0.50</td>\n",
       "      <td>0.59</td>\n",
       "      <td>0.57</td>\n",
       "      <td>0.74</td>\n",
       "      <td>0</td>\n",
       "    </tr>\n",
       "    <tr>\n",
       "      <th>2</th>\n",
       "      <td>2</td>\n",
       "      <td>2</td>\n",
       "      <td>0.35</td>\n",
       "      <td>0.85</td>\n",
       "      <td>0.42</td>\n",
       "      <td>0.39</td>\n",
       "      <td>0.04</td>\n",
       "      <td>0.68</td>\n",
       "      <td>0.54</td>\n",
       "      <td>0.55</td>\n",
       "      <td>...</td>\n",
       "      <td>0.77</td>\n",
       "      <td>0.40</td>\n",
       "      <td>0.72</td>\n",
       "      <td>0.79</td>\n",
       "      <td>0.29</td>\n",
       "      <td>0.47</td>\n",
       "      <td>0.49</td>\n",
       "      <td>0.75</td>\n",
       "      <td>0.63</td>\n",
       "      <td>0</td>\n",
       "    </tr>\n",
       "    <tr>\n",
       "      <th>3</th>\n",
       "      <td>3</td>\n",
       "      <td>2</td>\n",
       "      <td>0.45</td>\n",
       "      <td>0.63</td>\n",
       "      <td>0.42</td>\n",
       "      <td>0.58</td>\n",
       "      <td>0.03</td>\n",
       "      <td>0.83</td>\n",
       "      <td>0.73</td>\n",
       "      <td>0.23</td>\n",
       "      <td>...</td>\n",
       "      <td>0.76</td>\n",
       "      <td>0.42</td>\n",
       "      <td>0.30</td>\n",
       "      <td>0.06</td>\n",
       "      <td>0.40</td>\n",
       "      <td>0.56</td>\n",
       "      <td>0.42</td>\n",
       "      <td>0.81</td>\n",
       "      <td>0.54</td>\n",
       "      <td>0</td>\n",
       "    </tr>\n",
       "    <tr>\n",
       "      <th>4</th>\n",
       "      <td>4</td>\n",
       "      <td>2</td>\n",
       "      <td>0.47</td>\n",
       "      <td>0.11</td>\n",
       "      <td>0.45</td>\n",
       "      <td>0.78</td>\n",
       "      <td>0.43</td>\n",
       "      <td>0.57</td>\n",
       "      <td>0.66</td>\n",
       "      <td>0.39</td>\n",
       "      <td>...</td>\n",
       "      <td>0.69</td>\n",
       "      <td>0.76</td>\n",
       "      <td>0.34</td>\n",
       "      <td>0.10</td>\n",
       "      <td>0.61</td>\n",
       "      <td>0.56</td>\n",
       "      <td>0.40</td>\n",
       "      <td>0.40</td>\n",
       "      <td>0.45</td>\n",
       "      <td>0</td>\n",
       "    </tr>\n",
       "  </tbody>\n",
       "</table>\n",
       "<p>5 rows × 981 columns</p>\n",
       "</div>"
      ],
      "text/plain": [
       "   obs_id  problem_id    v0    v1    v2    v3    v4    v5    v6    v7  ...  \\\n",
       "0       0           2  0.60  0.05  0.50  0.79  0.06  0.72  0.51  0.34  ...   \n",
       "1       1           2  0.55  0.08  0.62  0.52  0.05  0.46  0.20  0.11  ...   \n",
       "2       2           2  0.35  0.85  0.42  0.39  0.04  0.68  0.54  0.55  ...   \n",
       "3       3           2  0.45  0.63  0.42  0.58  0.03  0.83  0.73  0.23  ...   \n",
       "4       4           2  0.47  0.11  0.45  0.78  0.43  0.57  0.66  0.39  ...   \n",
       "\n",
       "   v969  v970  v971  v972  v973  v974  v975  v976  v977  target  \n",
       "0  0.50  0.34  0.72  0.12  0.66  0.75  0.52  0.74  0.35       0  \n",
       "1  0.68  0.68  0.78  0.17  0.45  0.50  0.59  0.57  0.74       0  \n",
       "2  0.77  0.40  0.72  0.79  0.29  0.47  0.49  0.75  0.63       0  \n",
       "3  0.76  0.42  0.30  0.06  0.40  0.56  0.42  0.81  0.54       0  \n",
       "4  0.69  0.76  0.34  0.10  0.61  0.56  0.40  0.40  0.45       0  \n",
       "\n",
       "[5 rows x 981 columns]"
      ]
     },
     "execution_count": 8,
     "metadata": {},
     "output_type": "execute_result"
    }
   ],
   "source": [
    "test = pd.read_csv('test0.csv')\n",
    "test.head()"
   ]
  },
  {
   "cell_type": "code",
   "execution_count": 9,
   "id": "improving-specialist",
   "metadata": {},
   "outputs": [],
   "source": [
    "X_test = test.iloc[:, 1:-1]\n",
    "y_test = test.iloc[:, -1]"
   ]
  },
  {
   "cell_type": "code",
   "execution_count": 50,
   "id": "greek-handle",
   "metadata": {},
   "outputs": [],
   "source": [
    "model = VotingClassifier(estimators=[('lrc', LogisticRegression(multi_class='multinomial')), \n",
    "#                                      ('rrc', RidgeClassifier()), \n",
    "                                     ('bnc', BernoulliNB()), \n",
    "                                     ('gnc', GaussianNB()), \n",
    "                                     ('dtc', DecisionTreeClassifier()), \n",
    "                                     ('etc', ExtraTreeClassifier()), \n",
    "                                     ('rfc', RandomForestClassifier()),\n",
    "                                     ('etcs', ExtraTreesClassifier())], \n",
    "                         voting='soft')"
   ]
  },
  {
   "cell_type": "code",
   "execution_count": 51,
   "id": "enormous-state",
   "metadata": {},
   "outputs": [],
   "source": [
    "models = []\n",
    "for X_train, y_train in zip(X_train_dfs, y_train_dfs):\n",
    "    models.append(model.fit(X_train_res, y_train_res))"
   ]
  },
  {
   "cell_type": "code",
   "execution_count": 53,
   "id": "interested-chess",
   "metadata": {},
   "outputs": [
    {
     "name": "stdout",
     "output_type": "stream",
     "text": [
      "accuracy:  0.6129032258064516\n",
      "accuracy:  0.4803921568627451\n",
      "accuracy:  0.3431372549019608\n",
      "accuracy:  0.22549019607843138\n",
      "accuracy:  0.6206896551724138\n",
      "accuracy:  0.20430107526881722\n",
      "accuracy:  0.25252525252525254\n",
      "accuracy:  0.5979381443298969\n",
      "accuracy:  0.3225806451612903\n",
      "accuracy:  0.6022727272727273\n",
      "accuracy:  0.875\n",
      "accuracy:  0.6282051282051282\n",
      "accuracy:  0.9\n",
      "accuracy:  0.6715328467153284\n",
      "accuracy:  0.37254901960784315\n",
      "accuracy:  0.9803921568627451\n",
      "accuracy:  0.45255474452554745\n",
      "accuracy:  0.3977272727272727\n",
      "accuracy:  0.576271186440678\n",
      "accuracy:  0.2796610169491525\n",
      "accuracy:  0.9411764705882353\n"
     ]
    }
   ],
   "source": [
    "y_preds = []\n",
    "for i, model in enumerate(models):\n",
    "#     y_pred_prob = model.predict_proba(X_val_dfs[i])\n",
    "    y_pred = model.predict(X_val_dfs[i])\n",
    "    for pred in y_pred:\n",
    "        y_preds.append(pred)\n",
    "#     print('log loss: ', log_loss(y_val_dfs[i], y_pred_prob))\n",
    "    print('accuracy: ', accuracy_score(y_val_dfs[i], y_pred))"
   ]
  },
  {
   "cell_type": "code",
   "execution_count": 58,
   "id": "protective-memory",
   "metadata": {},
   "outputs": [
    {
     "data": {
      "text/plain": [
       "0.5302593659942363"
      ]
     },
     "execution_count": 58,
     "metadata": {},
     "output_type": "execute_result"
    }
   ],
   "source": [
    "y_targ = []\n",
    "for y_val in y_val_dfs:\n",
    "    for targ in y_val:\n",
    "        y_targ.append(targ)\n",
    "accuracy_score(y_targ, y_preds)"
   ]
  },
  {
   "cell_type": "code",
   "execution_count": 60,
   "id": "fancy-positive",
   "metadata": {},
   "outputs": [],
   "source": [
    "models = []\n",
    "for X_train, y_train in zip(X_train_dfs, y_train_dfs):\n",
    "    X_train_res, y_train_res = SMOTE(sampling_strategy='minority').fit_resample(X_train, y_train)\n",
    "    models.append(model.fit(X_train_res, y_train_res))"
   ]
  },
  {
   "cell_type": "code",
   "execution_count": 61,
   "id": "other-arrangement",
   "metadata": {},
   "outputs": [
    {
     "name": "stdout",
     "output_type": "stream",
     "text": [
      "accuracy:  0.6559139784946236\n",
      "accuracy:  0.45098039215686275\n",
      "accuracy:  0.37254901960784315\n",
      "accuracy:  0.20588235294117646\n",
      "accuracy:  0.8275862068965517\n",
      "accuracy:  0.25806451612903225\n",
      "accuracy:  0.29292929292929293\n",
      "accuracy:  0.5567010309278351\n",
      "accuracy:  0.3118279569892473\n",
      "accuracy:  0.6477272727272727\n",
      "accuracy:  0.859375\n",
      "accuracy:  0.5769230769230769\n",
      "accuracy:  0.8875\n",
      "accuracy:  0.6934306569343066\n",
      "accuracy:  0.39215686274509803\n",
      "accuracy:  0.9607843137254902\n",
      "accuracy:  0.49635036496350365\n",
      "accuracy:  0.3522727272727273\n",
      "accuracy:  0.6610169491525424\n",
      "accuracy:  0.3813559322033898\n",
      "accuracy:  0.9607843137254902\n"
     ]
    }
   ],
   "source": [
    "y_preds = []\n",
    "for i, model in enumerate(models):\n",
    "#     y_pred_prob = model.predict_proba(X_val_dfs[i])\n",
    "    y_pred = model.predict(X_val_dfs[i])\n",
    "    for pred in y_pred:\n",
    "        y_preds.append(pred)\n",
    "#     print('log loss: ', log_loss(y_val_dfs[i], y_pred_prob))\n",
    "    print('accuracy: ', accuracy_score(y_val_dfs[i], y_pred))"
   ]
  },
  {
   "cell_type": "code",
   "execution_count": 63,
   "id": "major-contrast",
   "metadata": {},
   "outputs": [
    {
     "data": {
      "text/plain": [
       "0.5547550432276657"
      ]
     },
     "execution_count": 63,
     "metadata": {},
     "output_type": "execute_result"
    }
   ],
   "source": [
    "y_targ = []\n",
    "for y_val in y_val_dfs:\n",
    "    for targ in y_val:\n",
    "        y_targ.append(targ)\n",
    "accuracy_score(y_targ, y_preds)"
   ]
  },
  {
   "cell_type": "code",
   "execution_count": 64,
   "id": "decent-paradise",
   "metadata": {},
   "outputs": [],
   "source": [
    "models = []\n",
    "for X_train, y_train in zip(X_train_dfs, y_train_dfs):\n",
    "    X_train_res, y_train_res = SMOTE(sampling_strategy='not majority').fit_resample(X_train, y_train)\n",
    "    models.append(model.fit(X_train_res, y_train_res))"
   ]
  },
  {
   "cell_type": "code",
   "execution_count": 65,
   "id": "magnetic-pakistan",
   "metadata": {},
   "outputs": [
    {
     "name": "stdout",
     "output_type": "stream",
     "text": [
      "accuracy:  0.6129032258064516\n",
      "accuracy:  0.47058823529411764\n",
      "accuracy:  0.4117647058823529\n",
      "accuracy:  0.22549019607843138\n",
      "accuracy:  0.7471264367816092\n",
      "accuracy:  0.3010752688172043\n",
      "accuracy:  0.25252525252525254\n",
      "accuracy:  0.5876288659793815\n",
      "accuracy:  0.3333333333333333\n",
      "accuracy:  0.6704545454545454\n",
      "accuracy:  0.859375\n",
      "accuracy:  0.6153846153846154\n",
      "accuracy:  0.85\n",
      "accuracy:  0.6642335766423357\n",
      "accuracy:  0.37254901960784315\n",
      "accuracy:  0.9607843137254902\n",
      "accuracy:  0.45985401459854014\n",
      "accuracy:  0.375\n",
      "accuracy:  0.6271186440677966\n",
      "accuracy:  0.3305084745762712\n",
      "accuracy:  0.9607843137254902\n"
     ]
    }
   ],
   "source": [
    "y_preds = []\n",
    "for i, model in enumerate(models):\n",
    "#     y_pred_prob = model.predict_proba(X_val_dfs[i])\n",
    "    y_pred = model.predict(X_val_dfs[i])\n",
    "    for pred in y_pred:\n",
    "        y_preds.append(pred)\n",
    "#     print('log loss: ', log_loss(y_val_dfs[i], y_pred_prob))\n",
    "    print('accuracy: ', accuracy_score(y_val_dfs[i], y_pred))"
   ]
  },
  {
   "cell_type": "code",
   "execution_count": 66,
   "id": "formal-equilibrium",
   "metadata": {},
   "outputs": [
    {
     "data": {
      "text/plain": [
       "0.547550432276657"
      ]
     },
     "execution_count": 66,
     "metadata": {},
     "output_type": "execute_result"
    }
   ],
   "source": [
    "y_targ = []\n",
    "for y_val in y_val_dfs:\n",
    "    for targ in y_val:\n",
    "        y_targ.append(targ)\n",
    "accuracy_score(y_targ, y_preds)"
   ]
  },
  {
   "cell_type": "code",
   "execution_count": 67,
   "id": "bizarre-technician",
   "metadata": {},
   "outputs": [],
   "source": [
    "model = RandomForestClassifier()"
   ]
  },
  {
   "cell_type": "code",
   "execution_count": 68,
   "id": "olympic-entry",
   "metadata": {},
   "outputs": [],
   "source": [
    "models = []\n",
    "for X_train, y_train in zip(X_train_dfs, y_train_dfs):\n",
    "    models.append(model.fit(X_train, y_train))"
   ]
  },
  {
   "cell_type": "code",
   "execution_count": 69,
   "id": "middle-copyright",
   "metadata": {},
   "outputs": [
    {
     "name": "stdout",
     "output_type": "stream",
     "text": [
      "accuracy:  0.6236559139784946\n",
      "accuracy:  0.46078431372549017\n",
      "accuracy:  0.38235294117647056\n",
      "accuracy:  0.27450980392156865\n",
      "accuracy:  0.9195402298850575\n",
      "accuracy:  0.21505376344086022\n",
      "accuracy:  0.2222222222222222\n",
      "accuracy:  0.6185567010309279\n",
      "accuracy:  0.3548387096774194\n",
      "accuracy:  0.6704545454545454\n",
      "accuracy:  0.84375\n",
      "accuracy:  0.6282051282051282\n",
      "accuracy:  0.925\n",
      "accuracy:  0.6715328467153284\n",
      "accuracy:  0.35294117647058826\n",
      "accuracy:  0.9607843137254902\n",
      "accuracy:  0.45985401459854014\n",
      "accuracy:  0.45454545454545453\n",
      "accuracy:  0.6271186440677966\n",
      "accuracy:  0.3898305084745763\n",
      "accuracy:  0.9607843137254902\n"
     ]
    }
   ],
   "source": [
    "y_preds = []\n",
    "for i, model in enumerate(models):\n",
    "#     y_pred_prob = model.predict_proba(X_val_dfs[i])\n",
    "    y_pred = model.predict(X_val_dfs[i])\n",
    "    for pred in y_pred:\n",
    "        y_preds.append(pred)\n",
    "#     print('log loss: ', log_loss(y_val_dfs[i], y_pred_prob))\n",
    "    print('accuracy: ', accuracy_score(y_val_dfs[i], y_pred))"
   ]
  },
  {
   "cell_type": "code",
   "execution_count": 70,
   "id": "dutch-daniel",
   "metadata": {},
   "outputs": [
    {
     "data": {
      "text/plain": [
       "0.5619596541786743"
      ]
     },
     "execution_count": 70,
     "metadata": {},
     "output_type": "execute_result"
    }
   ],
   "source": [
    "y_targ = []\n",
    "for y_val in y_val_dfs:\n",
    "    for targ in y_val:\n",
    "        y_targ.append(targ)\n",
    "accuracy_score(y_targ, y_preds)"
   ]
  },
  {
   "cell_type": "code",
   "execution_count": 71,
   "id": "collaborative-integration",
   "metadata": {},
   "outputs": [],
   "source": [
    "models = []\n",
    "for X_train, y_train in zip(X_train_dfs, y_train_dfs):\n",
    "    X_train_res, y_train_res = SMOTE(sampling_strategy='minority').fit_resample(X_train, y_train)\n",
    "    models.append(model.fit(X_train_res, y_train_res))"
   ]
  },
  {
   "cell_type": "code",
   "execution_count": 72,
   "id": "hybrid-sleeve",
   "metadata": {},
   "outputs": [
    {
     "name": "stdout",
     "output_type": "stream",
     "text": [
      "accuracy:  0.6344086021505376\n",
      "accuracy:  0.4803921568627451\n",
      "accuracy:  0.4019607843137255\n",
      "accuracy:  0.2647058823529412\n",
      "accuracy:  0.7816091954022989\n",
      "accuracy:  0.3333333333333333\n",
      "accuracy:  0.35353535353535354\n",
      "accuracy:  0.5773195876288659\n",
      "accuracy:  0.3333333333333333\n",
      "accuracy:  0.7727272727272727\n",
      "accuracy:  0.875\n",
      "accuracy:  0.6025641025641025\n",
      "accuracy:  0.8875\n",
      "accuracy:  0.6788321167883211\n",
      "accuracy:  0.38235294117647056\n",
      "accuracy:  0.9705882352941176\n",
      "accuracy:  0.5109489051094891\n",
      "accuracy:  0.375\n",
      "accuracy:  0.6271186440677966\n",
      "accuracy:  0.4067796610169492\n",
      "accuracy:  0.9607843137254902\n"
     ]
    }
   ],
   "source": [
    "y_preds = []\n",
    "for i, model in enumerate(models):\n",
    "#     y_pred_prob = model.predict_proba(X_val_dfs[i])\n",
    "    y_pred = model.predict(X_val_dfs[i])\n",
    "    for pred in y_pred:\n",
    "        y_preds.append(pred)\n",
    "#     print('log loss: ', log_loss(y_val_dfs[i], y_pred_prob))\n",
    "    print('accuracy: ', accuracy_score(y_val_dfs[i], y_pred))"
   ]
  },
  {
   "cell_type": "code",
   "execution_count": 73,
   "id": "psychological-sport",
   "metadata": {},
   "outputs": [
    {
     "data": {
      "text/plain": [
       "0.5730067243035543"
      ]
     },
     "execution_count": 73,
     "metadata": {},
     "output_type": "execute_result"
    }
   ],
   "source": [
    "y_targ = []\n",
    "for y_val in y_val_dfs:\n",
    "    for targ in y_val:\n",
    "        y_targ.append(targ)\n",
    "accuracy_score(y_targ, y_preds)"
   ]
  },
  {
   "cell_type": "code",
   "execution_count": 74,
   "id": "disturbed-studio",
   "metadata": {},
   "outputs": [],
   "source": [
    "models = []\n",
    "for X_train, y_train in zip(X_train_dfs, y_train_dfs):\n",
    "    X_train_res, y_train_res = SMOTE(sampling_strategy='not majority').fit_resample(X_train, y_train)\n",
    "    models.append(model.fit(X_train_res, y_train_res))"
   ]
  },
  {
   "cell_type": "code",
   "execution_count": 75,
   "id": "latin-isolation",
   "metadata": {},
   "outputs": [
    {
     "name": "stdout",
     "output_type": "stream",
     "text": [
      "accuracy:  0.6236559139784946\n",
      "accuracy:  0.4411764705882353\n",
      "accuracy:  0.4019607843137255\n",
      "accuracy:  0.27450980392156865\n",
      "accuracy:  0.8045977011494253\n",
      "accuracy:  0.27956989247311825\n",
      "accuracy:  0.35353535353535354\n",
      "accuracy:  0.6288659793814433\n",
      "accuracy:  0.3225806451612903\n",
      "accuracy:  0.7386363636363636\n",
      "accuracy:  0.875\n",
      "accuracy:  0.6025641025641025\n",
      "accuracy:  0.875\n",
      "accuracy:  0.6861313868613139\n",
      "accuracy:  0.3627450980392157\n",
      "accuracy:  0.9607843137254902\n",
      "accuracy:  0.45255474452554745\n",
      "accuracy:  0.36363636363636365\n",
      "accuracy:  0.635593220338983\n",
      "accuracy:  0.3728813559322034\n",
      "accuracy:  0.9607843137254902\n"
     ]
    }
   ],
   "source": [
    "y_preds = []\n",
    "for i, model in enumerate(models):\n",
    "#     y_pred_prob = model.predict_proba(X_val_dfs[i])\n",
    "    y_pred = model.predict(X_val_dfs[i])\n",
    "    for pred in y_pred:\n",
    "        y_preds.append(pred)\n",
    "#     print('log loss: ', log_loss(y_val_dfs[i], y_pred_prob))\n",
    "    print('accuracy: ', accuracy_score(y_val_dfs[i], y_pred))"
   ]
  },
  {
   "cell_type": "code",
   "execution_count": 76,
   "id": "underlying-synthetic",
   "metadata": {},
   "outputs": [
    {
     "data": {
      "text/plain": [
       "0.5629202689721422"
      ]
     },
     "execution_count": 76,
     "metadata": {},
     "output_type": "execute_result"
    }
   ],
   "source": [
    "y_targ = []\n",
    "for y_val in y_val_dfs:\n",
    "    for targ in y_val:\n",
    "        y_targ.append(targ)\n",
    "accuracy_score(y_targ, y_preds)"
   ]
  },
  {
   "cell_type": "code",
   "execution_count": null,
   "id": "illegal-ceremony",
   "metadata": {},
   "outputs": [],
   "source": []
  }
 ],
 "metadata": {
  "kernelspec": {
   "display_name": "Python 3",
   "language": "python",
   "name": "python3"
  },
  "language_info": {
   "codemirror_mode": {
    "name": "ipython",
    "version": 3
   },
   "file_extension": ".py",
   "mimetype": "text/x-python",
   "name": "python",
   "nbconvert_exporter": "python",
   "pygments_lexer": "ipython3",
   "version": "3.8.3"
  }
 },
 "nbformat": 4,
 "nbformat_minor": 5
}
