{
 "cells": [
  {
   "cell_type": "code",
   "execution_count": 335,
   "id": "narrative-denial",
   "metadata": {},
   "outputs": [],
   "source": [
    "import pandas as pd \n",
    "import numpy as np\n",
    "import time\n",
    "from xgboost import XGBClassifier\n",
    "from sklearn.model_selection import train_test_split\n",
    "from sklearn.metrics import accuracy_score\n",
    "from sklearn.preprocessing import MinMaxScaler\n",
    "from sklearn.preprocessing import LabelEncoder\n",
    "from sklearn.model_selection import train_test_split\n",
    "from sklearn.metrics import confusion_matrix, classification_report\n",
    "from sklearn.model_selection import RandomizedSearchCV, KFold\n",
    "from sklearn.decomposition import PCA\n",
    "import matplotlib.pyplot as plt\n",
    "import seaborn as sns\n",
    "from sklearn.discriminant_analysis import LinearDiscriminantAnalysis\n",
    "from sklearn.pipeline import Pipeline\n",
    "from sklearn.naive_bayes import ComplementNB\n",
    "from sklearn.model_selection import cross_val_score\n",
    "from sklearn.model_selection import RepeatedStratifiedKFold\n",
    "from sklearn.decomposition import KernelPCA\n",
    "from sklearn.metrics import log_loss\n",
    "%config InlineBackend.figure_format='retina'"
   ]
  },
  {
   "cell_type": "code",
   "execution_count": 296,
   "id": "identical-period",
   "metadata": {},
   "outputs": [],
   "source": [
    "train=pd.read_csv('/Users/tarunayroy/Desktop/ML2/Project/train.csv')\n",
    "test=pd.read_csv('/Users/tarunayroy/Desktop/ML2/Project/test.csv')"
   ]
  },
  {
   "cell_type": "code",
   "execution_count": 64,
   "id": "alleged-court",
   "metadata": {},
   "outputs": [
    {
     "data": {
      "text/html": [
       "<div>\n",
       "<style scoped>\n",
       "    .dataframe tbody tr th:only-of-type {\n",
       "        vertical-align: middle;\n",
       "    }\n",
       "\n",
       "    .dataframe tbody tr th {\n",
       "        vertical-align: top;\n",
       "    }\n",
       "\n",
       "    .dataframe thead th {\n",
       "        text-align: right;\n",
       "    }\n",
       "</style>\n",
       "<table border=\"1\" class=\"dataframe\">\n",
       "  <thead>\n",
       "    <tr style=\"text-align: right;\">\n",
       "      <th></th>\n",
       "      <th>problem_id</th>\n",
       "      <th>v0</th>\n",
       "      <th>v1</th>\n",
       "      <th>v2</th>\n",
       "      <th>v3</th>\n",
       "      <th>v4</th>\n",
       "      <th>v5</th>\n",
       "      <th>v6</th>\n",
       "      <th>v7</th>\n",
       "      <th>v8</th>\n",
       "      <th>...</th>\n",
       "      <th>v969</th>\n",
       "      <th>v970</th>\n",
       "      <th>v971</th>\n",
       "      <th>v972</th>\n",
       "      <th>v973</th>\n",
       "      <th>v974</th>\n",
       "      <th>v975</th>\n",
       "      <th>v976</th>\n",
       "      <th>v977</th>\n",
       "      <th>target</th>\n",
       "    </tr>\n",
       "  </thead>\n",
       "  <tbody>\n",
       "    <tr>\n",
       "      <th>0</th>\n",
       "      <td>0</td>\n",
       "      <td>0.35</td>\n",
       "      <td>0.36</td>\n",
       "      <td>0.77</td>\n",
       "      <td>0.42</td>\n",
       "      <td>0.48</td>\n",
       "      <td>0.12</td>\n",
       "      <td>0.43</td>\n",
       "      <td>0.49</td>\n",
       "      <td>0.19</td>\n",
       "      <td>...</td>\n",
       "      <td>0.77</td>\n",
       "      <td>0.57</td>\n",
       "      <td>0.56</td>\n",
       "      <td>0.40</td>\n",
       "      <td>0.75</td>\n",
       "      <td>0.08</td>\n",
       "      <td>0.14</td>\n",
       "      <td>0.43</td>\n",
       "      <td>0.88</td>\n",
       "      <td>0</td>\n",
       "    </tr>\n",
       "    <tr>\n",
       "      <th>1</th>\n",
       "      <td>0</td>\n",
       "      <td>0.12</td>\n",
       "      <td>0.17</td>\n",
       "      <td>0.38</td>\n",
       "      <td>0.43</td>\n",
       "      <td>0.57</td>\n",
       "      <td>0.09</td>\n",
       "      <td>0.11</td>\n",
       "      <td>0.58</td>\n",
       "      <td>0.35</td>\n",
       "      <td>...</td>\n",
       "      <td>0.07</td>\n",
       "      <td>0.59</td>\n",
       "      <td>0.06</td>\n",
       "      <td>0.17</td>\n",
       "      <td>0.09</td>\n",
       "      <td>0.04</td>\n",
       "      <td>0.04</td>\n",
       "      <td>0.45</td>\n",
       "      <td>0.14</td>\n",
       "      <td>1</td>\n",
       "    </tr>\n",
       "    <tr>\n",
       "      <th>2</th>\n",
       "      <td>0</td>\n",
       "      <td>0.67</td>\n",
       "      <td>0.16</td>\n",
       "      <td>0.85</td>\n",
       "      <td>0.41</td>\n",
       "      <td>0.57</td>\n",
       "      <td>0.27</td>\n",
       "      <td>0.83</td>\n",
       "      <td>0.73</td>\n",
       "      <td>0.26</td>\n",
       "      <td>...</td>\n",
       "      <td>0.24</td>\n",
       "      <td>0.42</td>\n",
       "      <td>0.57</td>\n",
       "      <td>0.58</td>\n",
       "      <td>0.37</td>\n",
       "      <td>0.01</td>\n",
       "      <td>0.10</td>\n",
       "      <td>0.38</td>\n",
       "      <td>0.06</td>\n",
       "      <td>1</td>\n",
       "    </tr>\n",
       "    <tr>\n",
       "      <th>3</th>\n",
       "      <td>0</td>\n",
       "      <td>0.70</td>\n",
       "      <td>0.20</td>\n",
       "      <td>0.62</td>\n",
       "      <td>0.41</td>\n",
       "      <td>0.41</td>\n",
       "      <td>0.10</td>\n",
       "      <td>0.80</td>\n",
       "      <td>0.52</td>\n",
       "      <td>0.82</td>\n",
       "      <td>...</td>\n",
       "      <td>0.04</td>\n",
       "      <td>0.52</td>\n",
       "      <td>0.25</td>\n",
       "      <td>0.07</td>\n",
       "      <td>0.23</td>\n",
       "      <td>0.04</td>\n",
       "      <td>0.76</td>\n",
       "      <td>0.41</td>\n",
       "      <td>0.59</td>\n",
       "      <td>1</td>\n",
       "    </tr>\n",
       "    <tr>\n",
       "      <th>4</th>\n",
       "      <td>0</td>\n",
       "      <td>0.72</td>\n",
       "      <td>0.75</td>\n",
       "      <td>0.74</td>\n",
       "      <td>0.42</td>\n",
       "      <td>0.41</td>\n",
       "      <td>0.76</td>\n",
       "      <td>0.34</td>\n",
       "      <td>0.72</td>\n",
       "      <td>0.06</td>\n",
       "      <td>...</td>\n",
       "      <td>0.81</td>\n",
       "      <td>0.41</td>\n",
       "      <td>0.16</td>\n",
       "      <td>0.03</td>\n",
       "      <td>0.21</td>\n",
       "      <td>0.10</td>\n",
       "      <td>0.12</td>\n",
       "      <td>0.53</td>\n",
       "      <td>0.30</td>\n",
       "      <td>1</td>\n",
       "    </tr>\n",
       "  </tbody>\n",
       "</table>\n",
       "<p>5 rows × 980 columns</p>\n",
       "</div>"
      ],
      "text/plain": [
       "   problem_id    v0    v1    v2    v3    v4    v5    v6    v7    v8  ...  \\\n",
       "0           0  0.35  0.36  0.77  0.42  0.48  0.12  0.43  0.49  0.19  ...   \n",
       "1           0  0.12  0.17  0.38  0.43  0.57  0.09  0.11  0.58  0.35  ...   \n",
       "2           0  0.67  0.16  0.85  0.41  0.57  0.27  0.83  0.73  0.26  ...   \n",
       "3           0  0.70  0.20  0.62  0.41  0.41  0.10  0.80  0.52  0.82  ...   \n",
       "4           0  0.72  0.75  0.74  0.42  0.41  0.76  0.34  0.72  0.06  ...   \n",
       "\n",
       "   v969  v970  v971  v972  v973  v974  v975  v976  v977  target  \n",
       "0  0.77  0.57  0.56  0.40  0.75  0.08  0.14  0.43  0.88       0  \n",
       "1  0.07  0.59  0.06  0.17  0.09  0.04  0.04  0.45  0.14       1  \n",
       "2  0.24  0.42  0.57  0.58  0.37  0.01  0.10  0.38  0.06       1  \n",
       "3  0.04  0.52  0.25  0.07  0.23  0.04  0.76  0.41  0.59       1  \n",
       "4  0.81  0.41  0.16  0.03  0.21  0.10  0.12  0.53  0.30       1  \n",
       "\n",
       "[5 rows x 980 columns]"
      ]
     },
     "execution_count": 64,
     "metadata": {},
     "output_type": "execute_result"
    }
   ],
   "source": [
    "train.head()"
   ]
  },
  {
   "cell_type": "code",
   "execution_count": 26,
   "id": "beginning-appliance",
   "metadata": {},
   "outputs": [],
   "source": [
    "X = train.iloc[:, 0:-1]\n",
    "y = train.iloc[:, -1]"
   ]
  },
  {
   "cell_type": "code",
   "execution_count": 4,
   "id": "flexible-collar",
   "metadata": {},
   "outputs": [
    {
     "data": {
      "text/plain": [
       "array([ 0,  1,  2,  3,  4,  5,  6,  7,  8,  9, 10, 11, 12, 13, 14, 15, 16,\n",
       "       17, 18, 19, 20])"
      ]
     },
     "execution_count": 4,
     "metadata": {},
     "output_type": "execute_result"
    }
   ],
   "source": [
    "train['problem_id'].unique()"
   ]
  },
  {
   "cell_type": "code",
   "execution_count": 5,
   "id": "regulated-fleet",
   "metadata": {},
   "outputs": [
    {
     "data": {
      "text/plain": [
       "0    4124\n",
       "1    3175\n",
       "2     729\n",
       "3     255\n",
       "4      19\n",
       "Name: target, dtype: int64"
      ]
     },
     "execution_count": 5,
     "metadata": {},
     "output_type": "execute_result"
    }
   ],
   "source": [
    "train['target'].value_counts()"
   ]
  },
  {
   "cell_type": "code",
   "execution_count": 376,
   "id": "hindu-hopkins",
   "metadata": {},
   "outputs": [
    {
     "data": {
      "image/png": "[encoded data removed]",
      "text/plain": [
       "<Figure size 720x504 with 1 Axes>"
      ]
     },
     "metadata": {
      "image/png": {
       "height": 440,
       "width": 618
      },
      "needs_background": "light"
     },
     "output_type": "display_data"
    }
   ],
   "source": [
    "fig,ax=plt.subplots(1,figsize=(10,7))\n",
    "ax.set_title(\"Target Distribution: The Imbalance\")\n",
    "sns.countplot(x=train['target'])\n",
    "plt.savefig(\"Target.png\")\n",
    "plt.show()"
   ]
  },
  {
   "cell_type": "code",
   "execution_count": 89,
   "id": "norwegian-barrel",
   "metadata": {},
   "outputs": [
    {
     "data": {
      "image/png": "[encoded data removed]",
      "text/plain": [
       "<Figure size 720x504 with 1 Axes>"
      ]
     },
     "metadata": {
      "needs_background": "light"
     },
     "output_type": "display_data"
    }
   ],
   "source": [
    "fig,ax=plt.subplots(1,figsize=(10,7))\n",
    "ax.set_title(\"Target Count vs Problem ID plot\")\n",
    "sns.countplot(x='problem_id',hue='target',data=train)\n",
    "plt.show()"
   ]
  },
  {
   "cell_type": "code",
   "execution_count": 356,
   "id": "domestic-flour",
   "metadata": {},
   "outputs": [
    {
     "data": {
      "image/png": "[encoded data removed]",
      "text/plain": [
       "<Figure size 576x504 with 2 Axes>"
      ]
     },
     "metadata": {
      "image/png": {
       "height": 426,
       "width": 452
      },
      "needs_background": "light"
     },
     "output_type": "display_data"
    }
   ],
   "source": [
    "fig,ax=plt.subplots(1,figsize=(8,7))\n",
    "ax.set_title(\"Corr Plot for subset of columns\",fontdict={'fontsize':12})\n",
    "sns.heatmap(train[train.columns[1:10]].corr())\n",
    "plt.show()"
   ]
  },
  {
   "cell_type": "markdown",
   "id": "addressed-appearance",
   "metadata": {},
   "source": [
    "## Dimensionality reduction using PCA"
   ]
  },
  {
   "cell_type": "markdown",
   "id": "civic-plaintiff",
   "metadata": {},
   "source": [
    "We try to reduce the dimensionality of the vectors using PCA (leaving out Problem ID for now)"
   ]
  },
  {
   "cell_type": "code",
   "execution_count": 83,
   "id": "dominican-linux",
   "metadata": {},
   "outputs": [],
   "source": [
    "total_explained_variance=[]\n",
    "n_components=[]\n",
    "for i in range(1,50):\n",
    "    pca = PCA(n_components=i,svd_solver='full')\n",
    "    X_pca = pca.fit_transform(X[1:])\n",
    "    total_explained_variance.append(np.sum(pca.explained_variance_))\n",
    "    n_components.append(i)"
   ]
  },
  {
   "cell_type": "code",
   "execution_count": 379,
   "id": "external-engineering",
   "metadata": {},
   "outputs": [
    {
     "data": {
      "image/png": "[encoded data removed]",
      "text/plain": [
       "<Figure size 1008x504 with 1 Axes>"
      ]
     },
     "metadata": {
      "image/png": {
       "height": 495,
       "width": 1000
      },
      "needs_background": "light"
     },
     "output_type": "display_data"
    }
   ],
   "source": [
    "fig,ax=plt.subplots(1,figsize=(14,7))\n",
    "ax.set_xlabel('Number of components')\n",
    "ax.set(xticks=n_components)\n",
    "ax.set_title(\"Components vs Cumulative Explained Variance\")\n",
    "ax.set_ylabel(\"Cumulative Proportion of variance explained\")\n",
    "sns.lineplot(x=n_components,y=total_explained_variance,label='Cumulative Explained Variance',ax=ax)\n",
    "sns.despine(right = True)\n",
    "plt.tight_layout()\n",
    "plt.savefig(\"pca.png\")\n",
    "plt.show()"
   ]
  },
  {
   "cell_type": "markdown",
   "id": "million-comparison",
   "metadata": {},
   "source": [
    "With 29 components describe 65% of the data. However there is still information lost. This likely might not work well during modelling. Lets try some other ways for dimensionality Reduction such as LDA in the pipeline."
   ]
  },
  {
   "cell_type": "markdown",
   "id": "danish-panic",
   "metadata": {},
   "source": [
    "# Statistical Modelling "
   ]
  },
  {
   "cell_type": "markdown",
   "id": "direct-dancing",
   "metadata": {},
   "source": [
    "## Linear Discriminant Analysis + XgBoost"
   ]
  },
  {
   "cell_type": "code",
   "execution_count": 390,
   "id": "southeast-aurora",
   "metadata": {},
   "outputs": [],
   "source": [
    "X_train,X_val,y_train,y_val=train_test_split(X,y,test_size=0.2,stratify=y,random_state=69)"
   ]
  },
  {
   "cell_type": "code",
   "execution_count": 391,
   "id": "interracial-playlist",
   "metadata": {},
   "outputs": [],
   "source": [
    "lda=LinearDiscriminantAnalysis(n_components=4)\n",
    "X_lda=lda.fit_transform(X_train.iloc[:,1:],y_train)"
   ]
  },
  {
   "cell_type": "code",
   "execution_count": 392,
   "id": "adopted-share",
   "metadata": {},
   "outputs": [],
   "source": [
    "X_train_with_lda=np.hstack((np.array(X_train.iloc[:,:1]),X_lda))"
   ]
  },
  {
   "cell_type": "code",
   "execution_count": 395,
   "id": "heavy-employment",
   "metadata": {},
   "outputs": [
    {
     "name": "stdout",
     "output_type": "stream",
     "text": [
      "[18:44:41] WARNING: /Users/travis/build/dmlc/xgboost/src/learner.cc:1061: Starting in XGBoost 1.3.0, the default evaluation metric used with the objective 'multi:softprob' was changed from 'merror' to 'mlogloss'. Explicitly set eval_metric if you'd like to restore the old behavior.\n"
     ]
    }
   ],
   "source": [
    "# n_components cannot be larger than min(n_features, n_classes - 1). Since wee have 4 classes we look for values between them\n",
    "model = XGBClassifier(use_label_encoder=False)\n",
    "model.fit(X_train_with_lda,y_train)\n",
    "X_val_lda=lda.transform(X_val.iloc[:,1:])\n",
    "X_val_with_lda=np.hstack((np.array(X_val.iloc[:,:1]),X_val_lda))\n",
    "y_pred = model.predict(X_val_with_lda)\n"
   ]
  },
  {
   "cell_type": "code",
   "execution_count": 396,
   "id": "quiet-berry",
   "metadata": {},
   "outputs": [
    {
     "name": "stdout",
     "output_type": "stream",
     "text": [
      "Accuracy: 61.95%\n"
     ]
    }
   ],
   "source": [
    "accuracy = accuracy_score(y_val, y_pred)\n",
    "print(\"Accuracy: %.2f%%\" % (accuracy * 100.0))"
   ]
  },
  {
   "cell_type": "code",
   "execution_count": 398,
   "id": "scheduled-quest",
   "metadata": {},
   "outputs": [
    {
     "name": "stdout",
     "output_type": "stream",
     "text": [
      "The log loss is:\n",
      "\n",
      " 1.0447852015124361\n"
     ]
    }
   ],
   "source": [
    "y_val_prob=model.predict_proba(X_val_with_lda)\n",
    "print(\"The log loss is:\\n\\n\",log_loss(y_val,y_val_prob))"
   ]
  },
  {
   "cell_type": "markdown",
   "id": "future-clerk",
   "metadata": {},
   "source": [
    "LDA finds the combination of predictors such that between group variance is maximimised in comparison to within group variance."
   ]
  },
  {
   "cell_type": "code",
   "execution_count": 191,
   "id": "portable-missile",
   "metadata": {},
   "outputs": [],
   "source": [
    "lda=LinearDiscriminantAnalysis(n_components=4)\n",
    "lda.fit(X.iloc[:,1:],y)\n",
    "X_lda=lda.transform(X.iloc[:,1:])\n",
    "X_with_lda=np.hstack((np.array(X.iloc[:,:1]),X_lda))"
   ]
  },
  {
   "cell_type": "code",
   "execution_count": 192,
   "id": "stuffed-samuel",
   "metadata": {},
   "outputs": [],
   "source": [
    "model=XGBClassifier(use_label_encoder=False)"
   ]
  },
  {
   "cell_type": "code",
   "execution_count": 193,
   "id": "latin-uzbekistan",
   "metadata": {},
   "outputs": [
    {
     "name": "stdout",
     "output_type": "stream",
     "text": [
      "[14:28:31] WARNING: /Users/travis/build/dmlc/xgboost/src/learner.cc:1061: Starting in XGBoost 1.3.0, the default evaluation metric used with the objective 'multi:softprob' was changed from 'merror' to 'mlogloss'. Explicitly set eval_metric if you'd like to restore the old behavior.\n"
     ]
    },
    {
     "data": {
      "text/plain": [
       "XGBClassifier(base_score=0.5, booster='gbtree', colsample_bylevel=1,\n",
       "              colsample_bynode=1, colsample_bytree=1, gamma=0, gpu_id=-1,\n",
       "              importance_type='gain', interaction_constraints='',\n",
       "              learning_rate=0.300000012, max_delta_step=0, max_depth=6,\n",
       "              min_child_weight=1, missing=nan, monotone_constraints='()',\n",
       "              n_estimators=100, n_jobs=12, num_parallel_tree=1,\n",
       "              objective='multi:softprob', random_state=0, reg_alpha=0,\n",
       "              reg_lambda=1, scale_pos_weight=None, subsample=1,\n",
       "              tree_method='exact', use_label_encoder=False,\n",
       "              validate_parameters=1, verbosity=None)"
      ]
     },
     "execution_count": 193,
     "metadata": {},
     "output_type": "execute_result"
    }
   ],
   "source": [
    "model.fit(X_with_lda,y)"
   ]
  },
  {
   "cell_type": "code",
   "execution_count": 188,
   "id": "central-detection",
   "metadata": {},
   "outputs": [],
   "source": [
    "X_test = test.drop(columns=['target','obs_id'])"
   ]
  },
  {
   "cell_type": "code",
   "execution_count": 195,
   "id": "declared-sector",
   "metadata": {},
   "outputs": [],
   "source": [
    "X_test_lda=lda.transform(X_test.iloc[:,1:])\n",
    "X_test_with_lda=np.hstack((np.array(X_test.iloc[:,:1]),X_test_lda))"
   ]
  },
  {
   "cell_type": "code",
   "execution_count": 208,
   "id": "familiar-essex",
   "metadata": {},
   "outputs": [
    {
     "data": {
      "text/plain": [
       "array([[ 2.        ,  0.49325136,  0.15432215, -1.88430689, -1.9404574 ],\n",
       "       [ 2.        , -0.04475879,  0.69799088, -0.4418804 ,  0.9156407 ],\n",
       "       [ 2.        ,  0.72780028,  0.4518307 ,  2.20136829, -2.08250472],\n",
       "       ...,\n",
       "       [16.        , -0.08251383, -1.28495101,  0.67779081, -0.05003363],\n",
       "       [16.        , -0.63242778, -0.55813739,  0.55218858,  0.75238414],\n",
       "       [16.        ,  0.33198506, -0.54264699,  0.69099403,  0.8343388 ]])"
      ]
     },
     "execution_count": 208,
     "metadata": {},
     "output_type": "execute_result"
    }
   ],
   "source": [
    "X_test_with_lda"
   ]
  },
  {
   "cell_type": "code",
   "execution_count": 196,
   "id": "martial-jimmy",
   "metadata": {},
   "outputs": [],
   "source": [
    "y_pred=model.predict(X_test_with_lda)"
   ]
  },
  {
   "cell_type": "code",
   "execution_count": 199,
   "id": "analyzed-demonstration",
   "metadata": {},
   "outputs": [],
   "source": [
    "submission=pd.DataFrame(y_pred,columns=['target'])\n",
    "submission=submission.reset_index()\n",
    "submission=submission.rename(columns={\"index\":\"obs_id\"})\n",
    "submission.to_csv(\"LDA_submission.csv\",index=False)"
   ]
  },
  {
   "cell_type": "code",
   "execution_count": 209,
   "id": "brutal-premises",
   "metadata": {},
   "outputs": [
    {
     "name": "stdout",
     "output_type": "stream",
     "text": [
      "The accuracy on Kaggle was 67.29%. Lets keep trying!\n"
     ]
    }
   ],
   "source": [
    "print(\"The accuracy on Kaggle was 67.29%. Lets keep trying!\")"
   ]
  },
  {
   "cell_type": "markdown",
   "id": "industrial-stuart",
   "metadata": {},
   "source": [
    "## LDA + XgBoost + Hyperparameter Tuning"
   ]
  },
  {
   "cell_type": "code",
   "execution_count": 213,
   "id": "according-universal",
   "metadata": {},
   "outputs": [],
   "source": [
    "param_dist = {\"use_label_encoder\": [False],\n",
    "               \"booster\": [\"gbtree\", \"gblinear\", \"dart\"],\n",
    "               \"learning_rate\": [0.1,0.15, 0.2, 0.3],\n",
    "               \"max_depth\": [3,5,10],\n",
    "               \"n_estimators\":[50,90,100,150],\n",
    "               \"scale_pos_weight\":[300,500,1000]}"
   ]
  },
  {
   "cell_type": "code",
   "execution_count": 215,
   "id": "precise-balloon",
   "metadata": {},
   "outputs": [],
   "source": [
    "model=XGBClassifier()\n",
    "clf = RandomizedSearchCV(estimator=model, param_distributions=param_dist, n_jobs=-1,cv=4)"
   ]
  },
  {
   "cell_type": "code",
   "execution_count": 216,
   "id": "expired-genius",
   "metadata": {},
   "outputs": [
    {
     "name": "stdout",
     "output_type": "stream",
     "text": [
      "[14:50:35] WARNING: /Users/travis/build/dmlc/xgboost/src/learner.cc:541: \n",
      "Parameters: { scale_pos_weight } might not be used.\n",
      "\n",
      "  This may not be accurate due to some parameters are only used in language bindings but\n",
      "  passed down to XGBoost core.  Or some parameters are not used but slip through this\n",
      "  verification. Please open an issue if you find above cases.\n",
      "\n",
      "\n",
      "[14:50:35] WARNING: /Users/travis/build/dmlc/xgboost/src/learner.cc:1061: Starting in XGBoost 1.3.0, the default evaluation metric used with the objective 'multi:softprob' was changed from 'merror' to 'mlogloss'. Explicitly set eval_metric if you'd like to restore the old behavior.\n"
     ]
    },
    {
     "data": {
      "text/plain": [
       "RandomizedSearchCV(cv=4,\n",
       "                   estimator=XGBClassifier(base_score=None, booster=None,\n",
       "                                           colsample_bylevel=None,\n",
       "                                           colsample_bynode=None,\n",
       "                                           colsample_bytree=None, gamma=None,\n",
       "                                           gpu_id=None, importance_type='gain',\n",
       "                                           interaction_constraints=None,\n",
       "                                           learning_rate=None,\n",
       "                                           max_delta_step=None, max_depth=None,\n",
       "                                           min_child_weight=None, missing=nan,\n",
       "                                           monotone_constraints=None,\n",
       "                                           n_estimators=100,...\n",
       "                                           random_state=None, reg_alpha=None,\n",
       "                                           reg_lambda=None,\n",
       "                                           scale_pos_weight=None,\n",
       "                                           subsample=None, tree_method=None,\n",
       "                                           validate_parameters=None,\n",
       "                                           verbosity=None),\n",
       "                   n_jobs=-1,\n",
       "                   param_distributions={'booster': ['gbtree', 'gblinear',\n",
       "                                                    'dart'],\n",
       "                                        'learning_rate': [0.1, 0.15, 0.2, 0.3],\n",
       "                                        'max_depth': [3, 5, 10],\n",
       "                                        'n_estimators': [50, 90, 100, 150],\n",
       "                                        'scale_pos_weight': [300, 500, 1000],\n",
       "                                        'use_label_encoder': [False]})"
      ]
     },
     "execution_count": 216,
     "metadata": {},
     "output_type": "execute_result"
    }
   ],
   "source": [
    "clf.fit(X_train_with_lda,y_train)"
   ]
  },
  {
   "cell_type": "code",
   "execution_count": 217,
   "id": "advised-gallery",
   "metadata": {},
   "outputs": [
    {
     "data": {
      "text/plain": [
       "0.7613338966945445"
      ]
     },
     "execution_count": 217,
     "metadata": {},
     "output_type": "execute_result"
    }
   ],
   "source": [
    "clf.best_score_"
   ]
  },
  {
   "cell_type": "code",
   "execution_count": 221,
   "id": "centered-merchant",
   "metadata": {},
   "outputs": [
    {
     "data": {
      "text/plain": [
       "XGBClassifier(base_score=0.5, booster='gbtree', colsample_bylevel=1,\n",
       "              colsample_bynode=1, colsample_bytree=1, gamma=0, gpu_id=-1,\n",
       "              importance_type='gain', interaction_constraints='',\n",
       "              learning_rate=0.15, max_delta_step=0, max_depth=3,\n",
       "              min_child_weight=1, missing=nan, monotone_constraints='()',\n",
       "              n_estimators=90, n_jobs=12, num_parallel_tree=1,\n",
       "              objective='multi:softprob', random_state=0, reg_alpha=0,\n",
       "              reg_lambda=1, scale_pos_weight=1000, subsample=1,\n",
       "              tree_method='exact', use_label_encoder=False,\n",
       "              validate_parameters=1, verbosity=None)"
      ]
     },
     "execution_count": 221,
     "metadata": {},
     "output_type": "execute_result"
    }
   ],
   "source": [
    "pipe=clf.best_estimator_\n",
    "pipe"
   ]
  },
  {
   "cell_type": "code",
   "execution_count": 223,
   "id": "grave-split",
   "metadata": {},
   "outputs": [],
   "source": [
    "y_pred=pipe.predict(X_test_with_lda)"
   ]
  },
  {
   "cell_type": "code",
   "execution_count": 225,
   "id": "embedded-wrapping",
   "metadata": {},
   "outputs": [],
   "source": [
    "submission=pd.DataFrame(y_pred,columns=['target'])\n",
    "submission=submission.reset_index()\n",
    "submission=submission.rename(columns={\"index\":\"obs_id\"})\n",
    "submission.to_csv(\"LDA_submission_2.csv\",index=False)"
   ]
  },
  {
   "cell_type": "code",
   "execution_count": null,
   "id": "remarkable-dialogue",
   "metadata": {},
   "outputs": [],
   "source": [
    "## Decreasing the learning rate and oncreasing the scale_pos_weight to account for weight imbalance\n",
    "## We also increase the max_depth to 10\n",
    "model=XGBClassifier(base_score=0.5, booster='gbtree', colsample_bylevel=1,\n",
    "              colsample_bynode=1, colsample_bytree=1, gamma=0, gpu_id=-1,\n",
    "              importance_type='gain', interaction_constraints='',\n",
    "              learning_rate=0.25, max_delta_step=0, max_depth=7,\n",
    "              min_child_weight=1, monotone_constraints='()',\n",
    "              n_estimators=200, n_jobs=12, num_parallel_tree=1,\n",
    "              objective='mlogloss', random_state=0, reg_alpha=0,\n",
    "              reg_lambda=1, scale_pos_weight=300, subsample=1,\n",
    "              tree_method='exact', validate_parameters=1, verbosity=None)"
   ]
  },
  {
   "cell_type": "code",
   "execution_count": 277,
   "id": "removed-ceremony",
   "metadata": {},
   "outputs": [
    {
     "name": "stdout",
     "output_type": "stream",
     "text": [
      "The accuracy on Kaggle was 65.29%. Even Lower! This could be because the model is overfitting and also Data Leakage while working on LDA\n"
     ]
    }
   ],
   "source": [
    "print(\"The accuracy on Kaggle was 65.29%. Even Lower! This could be because the model is overfitting and also Data Leakage while working on LDA\")"
   ]
  },
  {
   "cell_type": "markdown",
   "id": "varied-healthcare",
   "metadata": {},
   "source": [
    "# XgBoost  + PCA +Target Mean Encoding"
   ]
  },
  {
   "cell_type": "code",
   "execution_count": 243,
   "id": "according-canadian",
   "metadata": {},
   "outputs": [],
   "source": [
    "## Trying target encoding\n",
    "from sklearn.model_selection import KFold\n",
    "\n",
    "def reg_target_encoding(train, col=\"device_type\", target=\"click\", splits=5):\n",
    "    \"\"\" Computes regularize mean encoding.\n",
    "    Inputs:\n",
    "       train: training dataframe\n",
    "       \n",
    "    \"\"\"\n",
    "    train.reset_index(inplace=True,drop=True)\n",
    "    kf = KFold(n_splits=splits, shuffle=False)\n",
    "    new_col = col + \"_\" + \"mean_enc\"\n",
    "    train.loc[:,new_col]=np.NaN\n",
    "    ### BEGIN SOLUTION\n",
    "    for train_index,test_index in kf.split(train):\n",
    "        col_mean=train.loc[train_index].groupby([col])[target].mean()\n",
    "        train.loc[test_index,new_col]=train.loc[test_index,col].map(col_mean)\n",
    "\n",
    "    global_mean = train.loc[:, target].mean()\n",
    "    train[new_col].fillna(global_mean,inplace=True)\n",
    "def mean_encoding_test(test, train, col=\"device_type\", target=\"click\"):\n",
    "    \"\"\" Computes target enconding for test data.\n",
    "\n",
    "    This is similar to how we do validation\n",
    "    \"\"\"\n",
    "    new_col = col + \"_\" + \"mean_enc\"\n",
    "    ### BEGIN SOLUTION\n",
    "    mean_col=train.groupby(col)[target].mean()\n",
    "    global_mean=train[target].mean()\n",
    "    train[new_col]=train[col].map(mean_col)\n",
    "    test[new_col]=test[col].map(mean_col)\n",
    "    train[new_col].fillna(global_mean,inplace=True)\n",
    "    test[new_col].fillna(global_mean,inplace=True)"
   ]
  },
  {
   "cell_type": "code",
   "execution_count": 363,
   "id": "approved-genius",
   "metadata": {},
   "outputs": [],
   "source": [
    "reg_target_encoding(train,col=\"problem_id\",target='target',splits=10)"
   ]
  },
  {
   "cell_type": "code",
   "execution_count": 364,
   "id": "convertible-characteristic",
   "metadata": {},
   "outputs": [],
   "source": [
    "X = train.drop(columns=['target'])\n",
    "y = train.iloc[:, -2]"
   ]
  },
  {
   "cell_type": "code",
   "execution_count": 365,
   "id": "universal-companion",
   "metadata": {},
   "outputs": [],
   "source": [
    "X_train,X_val,y_train,y_val=train_test_split(X,y,test_size=0.2,stratify=y,random_state=69)"
   ]
  },
  {
   "cell_type": "code",
   "execution_count": 318,
   "id": "eight-clear",
   "metadata": {},
   "outputs": [],
   "source": [
    "param_dist = {\"model__use_label_encoder\": [False],\n",
    "               \"model__booster\": [\"gbtree\", \"gblinear\", \"dart\"],\n",
    "               \"model__learning_rate\": [0.1,0.15, 0.2, 0.3],\n",
    "               \"model__max_depth\": [3,5,10],\n",
    "               \"model__n_estimators\":[50,90,100,150],\n",
    "               \"model__scale_pos_weight\":[300,500,1000],\n",
    "               \"PCA__n_components\":[15,40,50]}"
   ]
  },
  {
   "cell_type": "code",
   "execution_count": 319,
   "id": "roman-supply",
   "metadata": {},
   "outputs": [],
   "source": [
    "steps = [('Normalization',StandarScaler()),('PCA', KernelPCA(kernel='rbf')),('model', XGBClassifier())]\n",
    "pipe=Pipeline(steps)"
   ]
  },
  {
   "cell_type": "code",
   "execution_count": 320,
   "id": "pressing-relevance",
   "metadata": {},
   "outputs": [],
   "source": [
    "clf = RandomizedSearchCV(estimator=pipe, param_distributions=param_dist, n_jobs=-1,cv=4)"
   ]
  },
  {
   "cell_type": "code",
   "execution_count": 321,
   "id": "outside-requirement",
   "metadata": {},
   "outputs": [
    {
     "name": "stdout",
     "output_type": "stream",
     "text": [
      "[17:06:30] WARNING: /Users/travis/build/dmlc/xgboost/src/learner.cc:541: \n",
      "Parameters: { scale_pos_weight } might not be used.\n",
      "\n",
      "  This may not be accurate due to some parameters are only used in language bindings but\n",
      "  passed down to XGBoost core.  Or some parameters are not used but slip through this\n",
      "  verification. Please open an issue if you find above cases.\n",
      "\n",
      "\n",
      "[17:06:30] WARNING: /Users/travis/build/dmlc/xgboost/src/learner.cc:1061: Starting in XGBoost 1.3.0, the default evaluation metric used with the objective 'multi:softprob' was changed from 'merror' to 'mlogloss'. Explicitly set eval_metric if you'd like to restore the old behavior.\n"
     ]
    },
    {
     "data": {
      "text/plain": [
       "RandomizedSearchCV(cv=4,\n",
       "                   estimator=Pipeline(steps=[('PCA', KernelPCA(kernel='rbf')),\n",
       "                                             ('model',\n",
       "                                              XGBClassifier(base_score=None,\n",
       "                                                            booster=None,\n",
       "                                                            colsample_bylevel=None,\n",
       "                                                            colsample_bynode=None,\n",
       "                                                            colsample_bytree=None,\n",
       "                                                            gamma=None,\n",
       "                                                            gpu_id=None,\n",
       "                                                            importance_type='gain',\n",
       "                                                            interaction_constraints=None,\n",
       "                                                            learning_rate=None,\n",
       "                                                            max_delta_step=None,\n",
       "                                                            max_depth=None,\n",
       "                                                            min_child_weight=Non...\n",
       "                                                            tree_method=None,\n",
       "                                                            validate_parameters=None,\n",
       "                                                            verbosity=None))]),\n",
       "                   n_jobs=-1,\n",
       "                   param_distributions={'PCA__n_components': [15, 40, 50],\n",
       "                                        'model__booster': ['gbtree', 'gblinear',\n",
       "                                                           'dart'],\n",
       "                                        'model__learning_rate': [0.1, 0.15, 0.2,\n",
       "                                                                 0.3],\n",
       "                                        'model__max_depth': [3, 5, 10],\n",
       "                                        'model__n_estimators': [50, 90, 100,\n",
       "                                                                150],\n",
       "                                        'model__scale_pos_weight': [300, 500,\n",
       "                                                                    1000],\n",
       "                                        'model__use_label_encoder': [False]})"
      ]
     },
     "execution_count": 321,
     "metadata": {},
     "output_type": "execute_result"
    }
   ],
   "source": [
    "clf.fit(X_train,y_train)"
   ]
  },
  {
   "cell_type": "code",
   "execution_count": 322,
   "id": "diagnostic-custody",
   "metadata": {},
   "outputs": [
    {
     "data": {
      "text/plain": [
       "Pipeline(steps=[('PCA', KernelPCA(kernel='rbf', n_components=15)),\n",
       "                ('model',\n",
       "                 XGBClassifier(base_score=0.5, booster='dart',\n",
       "                               colsample_bylevel=1, colsample_bynode=1,\n",
       "                               colsample_bytree=1, gamma=0, gpu_id=-1,\n",
       "                               importance_type='gain',\n",
       "                               interaction_constraints='', learning_rate=0.1,\n",
       "                               max_delta_step=0, max_depth=5,\n",
       "                               min_child_weight=1, missing=nan,\n",
       "                               monotone_constraints='()', n_estimators=100,\n",
       "                               n_jobs=12, num_parallel_tree=1,\n",
       "                               objective='multi:softprob', random_state=0,\n",
       "                               reg_alpha=0, reg_lambda=1, scale_pos_weight=300,\n",
       "                               subsample=1, tree_method='exact',\n",
       "                               use_label_encoder=False, validate_parameters=1,\n",
       "                               verbosity=None))])"
      ]
     },
     "execution_count": 322,
     "metadata": {},
     "output_type": "execute_result"
    }
   ],
   "source": [
    "clf.best_estimator_"
   ]
  },
  {
   "cell_type": "code",
   "execution_count": 323,
   "id": "configured-jordan",
   "metadata": {},
   "outputs": [
    {
     "data": {
      "text/plain": [
       "0.6953765694929024"
      ]
     },
     "execution_count": 323,
     "metadata": {},
     "output_type": "execute_result"
    }
   ],
   "source": [
    "clf.best_score_"
   ]
  },
  {
   "cell_type": "code",
   "execution_count": 324,
   "id": "comic-talent",
   "metadata": {},
   "outputs": [],
   "source": [
    "pipe=clf.best_estimator_"
   ]
  },
  {
   "cell_type": "code",
   "execution_count": 325,
   "id": "graphic-membrane",
   "metadata": {},
   "outputs": [
    {
     "name": "stdout",
     "output_type": "stream",
     "text": [
      "[17:06:58] WARNING: /Users/travis/build/dmlc/xgboost/src/learner.cc:541: \n",
      "Parameters: { scale_pos_weight } might not be used.\n",
      "\n",
      "  This may not be accurate due to some parameters are only used in language bindings but\n",
      "  passed down to XGBoost core.  Or some parameters are not used but slip through this\n",
      "  verification. Please open an issue if you find above cases.\n",
      "\n",
      "\n",
      "[17:06:58] WARNING: /Users/travis/build/dmlc/xgboost/src/learner.cc:1061: Starting in XGBoost 1.3.0, the default evaluation metric used with the objective 'multi:softprob' was changed from 'merror' to 'mlogloss'. Explicitly set eval_metric if you'd like to restore the old behavior.\n"
     ]
    },
    {
     "data": {
      "text/plain": [
       "Pipeline(steps=[('PCA', KernelPCA(kernel='rbf', n_components=15)),\n",
       "                ('model',\n",
       "                 XGBClassifier(base_score=0.5, booster='dart',\n",
       "                               colsample_bylevel=1, colsample_bynode=1,\n",
       "                               colsample_bytree=1, gamma=0, gpu_id=-1,\n",
       "                               importance_type='gain',\n",
       "                               interaction_constraints='', learning_rate=0.1,\n",
       "                               max_delta_step=0, max_depth=5,\n",
       "                               min_child_weight=1, missing=nan,\n",
       "                               monotone_constraints='()', n_estimators=100,\n",
       "                               n_jobs=12, num_parallel_tree=1,\n",
       "                               objective='multi:softprob', random_state=0,\n",
       "                               reg_alpha=0, reg_lambda=1, scale_pos_weight=300,\n",
       "                               subsample=1, tree_method='exact',\n",
       "                               use_label_encoder=False, validate_parameters=1,\n",
       "                               verbosity=None))])"
      ]
     },
     "execution_count": 325,
     "metadata": {},
     "output_type": "execute_result"
    }
   ],
   "source": [
    "pipe.fit(X_train,y_train)"
   ]
  },
  {
   "cell_type": "code",
   "execution_count": 326,
   "id": "prescribed-blade",
   "metadata": {},
   "outputs": [],
   "source": [
    "y_pred=pipe.predict(X_val)"
   ]
  },
  {
   "cell_type": "code",
   "execution_count": 327,
   "id": "engaging-syria",
   "metadata": {},
   "outputs": [
    {
     "name": "stdout",
     "output_type": "stream",
     "text": [
      "Accuracy: 70.44%\n"
     ]
    }
   ],
   "source": [
    "accuracy = accuracy_score(y_val, y_pred)\n",
    "print(\"Accuracy: %.2f%%\" % (accuracy * 100.0))"
   ]
  },
  {
   "cell_type": "code",
   "execution_count": 328,
   "id": "organized-korea",
   "metadata": {},
   "outputs": [
    {
     "name": "stdout",
     "output_type": "stream",
     "text": [
      "The log loss of the problem is  0.6580086517877191\n"
     ]
    }
   ],
   "source": [
    "y_prob=pipe.predict_proba(X_val)\n",
    "print(\"The log loss of the problem is \",log_loss(y_val,y_prob))"
   ]
  },
  {
   "cell_type": "code",
   "execution_count": 358,
   "id": "remarkable-integration",
   "metadata": {},
   "outputs": [
    {
     "name": "stdout",
     "output_type": "stream",
     "text": [
      "[18:06:46] WARNING: /Users/travis/build/dmlc/xgboost/src/learner.cc:541: \n",
      "Parameters: { scale_pos_weight } might not be used.\n",
      "\n",
      "  This may not be accurate due to some parameters are only used in language bindings but\n",
      "  passed down to XGBoost core.  Or some parameters are not used but slip through this\n",
      "  verification. Please open an issue if you find above cases.\n",
      "\n",
      "\n",
      "[18:06:47] WARNING: /Users/travis/build/dmlc/xgboost/src/learner.cc:1061: Starting in XGBoost 1.3.0, the default evaluation metric used with the objective 'multi:softprob' was changed from 'merror' to 'mlogloss'. Explicitly set eval_metric if you'd like to restore the old behavior.\n"
     ]
    },
    {
     "data": {
      "text/plain": [
       "Pipeline(steps=[('PCA', KernelPCA(kernel='rbf', n_components=15)),\n",
       "                ('model',\n",
       "                 XGBClassifier(base_score=0.5, booster='dart',\n",
       "                               colsample_bylevel=1, colsample_bynode=1,\n",
       "                               colsample_bytree=1, gamma=0, gpu_id=-1,\n",
       "                               importance_type='gain',\n",
       "                               interaction_constraints='', learning_rate=0.1,\n",
       "                               max_delta_step=0, max_depth=5,\n",
       "                               min_child_weight=1, missing=nan,\n",
       "                               monotone_constraints='()', n_estimators=100,\n",
       "                               n_jobs=12, num_parallel_tree=1,\n",
       "                               objective='multi:softprob', random_state=0,\n",
       "                               reg_alpha=0, reg_lambda=1, scale_pos_weight=300,\n",
       "                               subsample=1, tree_method='exact',\n",
       "                               use_label_encoder=False, validate_parameters=1,\n",
       "                               verbosity=None))])"
      ]
     },
     "execution_count": 358,
     "metadata": {},
     "output_type": "execute_result"
    }
   ],
   "source": [
    "pipe.fit(X,y)"
   ]
  },
  {
   "cell_type": "code",
   "execution_count": 367,
   "id": "crude-sensitivity",
   "metadata": {},
   "outputs": [],
   "source": [
    "mean_encoding_test(test,train,col=\"problem_id\",target='target')"
   ]
  },
  {
   "cell_type": "code",
   "execution_count": 370,
   "id": "later-topic",
   "metadata": {},
   "outputs": [],
   "source": [
    "X_test = test.drop(columns=['target','obs_id'])"
   ]
  },
  {
   "cell_type": "code",
   "execution_count": 371,
   "id": "healthy-application",
   "metadata": {},
   "outputs": [],
   "source": [
    "y_pred=pipe.predict(X_test)"
   ]
  },
  {
   "cell_type": "code",
   "execution_count": 372,
   "id": "laden-hierarchy",
   "metadata": {},
   "outputs": [],
   "source": [
    "submission=pd.DataFrame(y_pred,columns=['target'])\n",
    "submission=submission.reset_index()\n",
    "submission=submission.rename(columns={\"index\":\"obs_id\"})\n",
    "submission.to_csv(\"PCA_with_XgBoost.csv\",index=False)"
   ]
  },
  {
   "cell_type": "markdown",
   "id": "valuable-chaos",
   "metadata": {},
   "source": [
    "71% accuracy prediction! "
   ]
  },
  {
   "cell_type": "markdown",
   "id": "surgical-founder",
   "metadata": {},
   "source": [
    "## XgBoost with all Estimators"
   ]
  },
  {
   "cell_type": "code",
   "execution_count": 297,
   "id": "meaningful-behalf",
   "metadata": {},
   "outputs": [],
   "source": [
    "X_train,X_val,y_train,y_val=train_test_split(X,y,test_size=0.2,stratify=y,random_state=69)"
   ]
  },
  {
   "cell_type": "code",
   "execution_count": 298,
   "id": "extensive-course",
   "metadata": {},
   "outputs": [],
   "source": [
    "## Decreasing the learning rate and oncreasing the scale_pos_weight to account for weight imbalance\n",
    "model=XGBClassifier(base_score=0.5, booster='gbtree', colsample_bylevel=1,\n",
    "              colsample_bynode=1, colsample_bytree=1, gamma=0, gpu_id=-1,\n",
    "              importance_type='gain', interaction_constraints='',\n",
    "              learning_rate=0.25, max_delta_step=0, max_depth=7,\n",
    "              min_child_weight=1, monotone_constraints='()',\n",
    "              n_estimators=200, n_jobs=12, num_parallel_tree=1,\n",
    "              objective='mlogloss', random_state=0, reg_alpha=0,\n",
    "              reg_lambda=1, scale_pos_weight=300, subsample=1,\n",
    "              tree_method='exact', validate_parameters=1, verbosity=None)"
   ]
  },
  {
   "cell_type": "code",
   "execution_count": 299,
   "id": "accomplished-apache",
   "metadata": {},
   "outputs": [
    {
     "name": "stderr",
     "output_type": "stream",
     "text": [
      "/Users/tarunayroy/opt/anaconda3/lib/python3.8/site-packages/xgboost/sklearn.py:888: UserWarning: The use of label encoder in XGBClassifier is deprecated and will be removed in a future release. To remove this warning, do the following: 1) Pass option use_label_encoder=False when constructing XGBClassifier object; and 2) Encode your labels (y) as integers starting with 0, i.e. 0, 1, 2, ..., [num_class - 1].\n",
      "  warnings.warn(label_encoder_deprecation_msg, UserWarning)\n"
     ]
    },
    {
     "name": "stdout",
     "output_type": "stream",
     "text": [
      "[16:40:58] WARNING: /Users/travis/build/dmlc/xgboost/src/learner.cc:541: \n",
      "Parameters: { scale_pos_weight } might not be used.\n",
      "\n",
      "  This may not be accurate due to some parameters are only used in language bindings but\n",
      "  passed down to XGBoost core.  Or some parameters are not used but slip through this\n",
      "  verification. Please open an issue if you find above cases.\n",
      "\n",
      "\n",
      "[16:40:58] WARNING: /Users/travis/build/dmlc/xgboost/src/learner.cc:1061: Starting in XGBoost 1.3.0, the default evaluation metric used with the objective 'multi:softprob' was changed from 'merror' to 'mlogloss'. Explicitly set eval_metric if you'd like to restore the old behavior.\n"
     ]
    },
    {
     "data": {
      "text/plain": [
       "XGBClassifier(base_score=0.5, booster='gbtree', colsample_bylevel=1,\n",
       "              colsample_bynode=1, colsample_bytree=1, gamma=0, gpu_id=-1,\n",
       "              importance_type='gain', interaction_constraints='',\n",
       "              learning_rate=0.25, max_delta_step=0, max_depth=7,\n",
       "              min_child_weight=1, missing=nan, monotone_constraints='()',\n",
       "              n_estimators=200, n_jobs=12, num_parallel_tree=1,\n",
       "              objective='multi:softprob', random_state=0, reg_alpha=0,\n",
       "              reg_lambda=1, scale_pos_weight=300, subsample=1,\n",
       "              tree_method='exact', validate_parameters=1, verbosity=None)"
      ]
     },
     "execution_count": 299,
     "metadata": {},
     "output_type": "execute_result"
    }
   ],
   "source": [
    "model.fit(X_train, y_train)"
   ]
  },
  {
   "cell_type": "markdown",
   "id": "historic-title",
   "metadata": {},
   "source": [
    "Validation Accuracy is 72.31% This is the best model!"
   ]
  },
  {
   "cell_type": "code",
   "execution_count": 300,
   "id": "revolutionary-cooper",
   "metadata": {},
   "outputs": [],
   "source": [
    "y_pred = model.predict(X_val)\n",
    "predictions = [round(value) for value in y_pred]"
   ]
  },
  {
   "cell_type": "code",
   "execution_count": 301,
   "id": "parliamentary-health",
   "metadata": {},
   "outputs": [
    {
     "name": "stdout",
     "output_type": "stream",
     "text": [
      "Accuracy: 72.07%\n"
     ]
    }
   ],
   "source": [
    "accuracy = accuracy_score(y_val, predictions)\n",
    "print(\"Accuracy: %.2f%%\" % (accuracy * 100.0))"
   ]
  },
  {
   "cell_type": "code",
   "execution_count": 305,
   "id": "altered-roman",
   "metadata": {},
   "outputs": [
    {
     "name": "stdout",
     "output_type": "stream",
     "text": [
      "The log loss of the problem is  0.7447204926620532\n"
     ]
    }
   ],
   "source": [
    "y_prob=model.predict_proba(X_val)\n",
    "print(\"The log loss of the problem is \",log_loss(y_val,y_prob))"
   ]
  },
  {
   "cell_type": "code",
   "execution_count": 306,
   "id": "considered-marijuana",
   "metadata": {},
   "outputs": [],
   "source": [
    "model.fit(X,y)"
   ]
  },
  {
   "cell_type": "code",
   "execution_count": 307,
   "id": "lucky-satisfaction",
   "metadata": {},
   "outputs": [],
   "source": [
    "y_pred= model.predict(X_test)"
   ]
  },
  {
   "cell_type": "code",
   "execution_count": 308,
   "id": "bored-scheduling",
   "metadata": {},
   "outputs": [],
   "source": [
    "submission=pd.DataFrame(y_pred,columns=['target'])\n",
    "submission=submission.reset_index()\n",
    "submission=submission.rename(columns={\"index\":\"obs_id\"})\n",
    "submission.to_csv(\"third_submission.csv\",index=False)"
   ]
  },
  {
   "cell_type": "markdown",
   "id": "radio-firmware",
   "metadata": {},
   "source": [
    "74% accuracy while prediction!"
   ]
  },
  {
   "cell_type": "code",
   "execution_count": null,
   "id": "suburban-ability",
   "metadata": {},
   "outputs": [],
   "source": []
  }
 ],
 "metadata": {
  "kernelspec": {
   "display_name": "Python 3",
   "language": "python",
   "name": "python3"
  },
  "language_info": {
   "codemirror_mode": {
    "name": "ipython",
    "version": 3
   },
   "file_extension": ".py",
   "mimetype": "text/x-python",
   "name": "python",
   "nbconvert_exporter": "python",
   "pygments_lexer": "ipython3",
   "version": "3.8.8"
  },
  "latex_envs": {
   "LaTeX_envs_menu_present": true,
   "autoclose": false,
   "autocomplete": true,
   "bibliofile": "biblio.bib",
   "cite_by": "apalike",
   "current_citInitial": 1,
   "eqLabelWithNumbers": true,
   "eqNumInitial": 1,
   "hotkeys": {
    "equation": "Ctrl-E",
    "itemize": "Ctrl-I"
   },
   "labels_anchors": false,
   "latex_user_defs": false,
   "report_style_numbering": false,
   "user_envs_cfg": false
  }
 },
 "nbformat": 4,
 "nbformat_minor": 5
}
